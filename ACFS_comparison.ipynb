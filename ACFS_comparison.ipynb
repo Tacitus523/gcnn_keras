{
 "cells": [
  {
   "cell_type": "code",
   "execution_count": 2,
   "metadata": {},
   "outputs": [],
   "source": [
    "import tensorflow as tf\n",
    "import time\n",
    "from datetime import timedelta\n",
    "import numpy as np\n",
    "ks=tf.keras\n",
    "\n",
    "from kgcnn.graph.base import GraphDict\n",
    "from kgcnn.data.base import MemoryGraphList, MemoryGraphDataset\n",
    "from kgcnn.data.qm import QMDataset\n",
    "from kgcnn.layers.conv.acsf_conv import ACSFG2, ACSFG4"
   ]
  },
  {
   "cell_type": "code",
   "execution_count": 3,
   "metadata": {},
   "outputs": [
    {
     "name": "stderr",
     "output_type": "stream",
     "text": [
      "ERROR:kgcnn.data.ThiolDisulfidExchange:Data directory does not exist.\n",
      "ERROR:kgcnn.data.ThiolDisulfidExchange:Data directory does not exist.\n",
      "WARNING:kgcnn.data.ThiolDisulfidExchange:Unsupported data extension of 'ExampleQM\\ThiolDisulfidExchange.csv' for table file.\n"
     ]
    },
    {
     "ename": "FileNotFoundError",
     "evalue": "Can not find '.csv' table path 'None'.",
     "output_type": "error",
     "traceback": [
      "\u001b[1;31m---------------------------------------------------------------------------\u001b[0m",
      "\u001b[1;31mFileNotFoundError\u001b[0m                         Traceback (most recent call last)",
      "Cell \u001b[1;32mIn[3], line 2\u001b[0m\n\u001b[0;32m      1\u001b[0m dataset \u001b[39m=\u001b[39m QMDataset(data_directory\u001b[39m=\u001b[39m\u001b[39m\"\u001b[39m\u001b[39mExampleQM\u001b[39m\u001b[39m\"\u001b[39m, file_name\u001b[39m=\u001b[39m\u001b[39m\"\u001b[39m\u001b[39mThiolDisulfidExchange.csv\u001b[39m\u001b[39m\"\u001b[39m, dataset_name\u001b[39m=\u001b[39m\u001b[39m\"\u001b[39m\u001b[39mThiolDisulfidExchange\u001b[39m\u001b[39m\"\u001b[39m)\n\u001b[1;32m----> 2\u001b[0m dataset\u001b[39m.\u001b[39;49mprepare_data(overwrite\u001b[39m=\u001b[39;49m\u001b[39mTrue\u001b[39;49;00m, make_sdf \u001b[39m=\u001b[39;49m \u001b[39mTrue\u001b[39;49;00m);\n\u001b[0;32m      3\u001b[0m dataset\u001b[39m.\u001b[39mread_in_memory(label_column_name\u001b[39m=\u001b[39m\u001b[39m\"\u001b[39m\u001b[39menergy\u001b[39m\u001b[39m\"\u001b[39m);\n\u001b[0;32m      4\u001b[0m dataset\u001b[39m.\u001b[39mmap_list(method\u001b[39m=\u001b[39m \u001b[39m\"\u001b[39m\u001b[39mset_range\u001b[39m\u001b[39m\"\u001b[39m, max_distance\u001b[39m=\u001b[39m \u001b[39m10.0\u001b[39m, max_neighbours\u001b[39m=\u001b[39m \u001b[39m10000\u001b[39m);\n",
      "File \u001b[1;32mc:\\Users\\lukas\\Desktop\\Promotion\\Code\\kgcnn_fork\\notebooks\\..\\kgcnn\\data\\qm.py:159\u001b[0m, in \u001b[0;36mQMDataset.prepare_data\u001b[1;34m(self, overwrite, file_column_name, make_sdf)\u001b[0m\n\u001b[0;32m    157\u001b[0m \u001b[39m# Try collect single xyz files in directory\u001b[39;00m\n\u001b[0;32m    158\u001b[0m \u001b[39mif\u001b[39;00m \u001b[39mnot\u001b[39;00m os\u001b[39m.\u001b[39mpath\u001b[39m.\u001b[39mexists(\u001b[39mself\u001b[39m\u001b[39m.\u001b[39mfile_path_xyz):\n\u001b[1;32m--> 159\u001b[0m     xyz_list \u001b[39m=\u001b[39m \u001b[39mself\u001b[39;49m\u001b[39m.\u001b[39;49mcollect_files_in_file_directory(\n\u001b[0;32m    160\u001b[0m         file_column_name\u001b[39m=\u001b[39;49mfile_column_name, table_file_path\u001b[39m=\u001b[39;49m\u001b[39mNone\u001b[39;49;00m,\n\u001b[0;32m    161\u001b[0m         read_method_file\u001b[39m=\u001b[39;49m\u001b[39mself\u001b[39;49m\u001b[39m.\u001b[39;49mget_geom_from_xyz_file, update_counter\u001b[39m=\u001b[39;49m\u001b[39mself\u001b[39;49m\u001b[39m.\u001b[39;49m_default_loop_update_info,\n\u001b[0;32m    162\u001b[0m         append_file_content\u001b[39m=\u001b[39;49m\u001b[39mTrue\u001b[39;49;00m, read_method_return_list\u001b[39m=\u001b[39;49m\u001b[39mTrue\u001b[39;49;00m\n\u001b[0;32m    163\u001b[0m     )\n\u001b[0;32m    164\u001b[0m     write_list_to_xyz_file(\u001b[39mself\u001b[39m\u001b[39m.\u001b[39mfile_path_xyz, xyz_list)\n\u001b[0;32m    166\u001b[0m \u001b[39m# Additionally, try to make SDF file. Requires openbabel.\u001b[39;00m\n",
      "File \u001b[1;32mc:\\Users\\lukas\\Desktop\\Promotion\\Code\\kgcnn_fork\\notebooks\\..\\kgcnn\\data\\base.py:569\u001b[0m, in \u001b[0;36mMemoryGraphDataset.collect_files_in_file_directory\u001b[1;34m(self, file_column_name, table_file_path, read_method_file, update_counter, append_file_content, read_method_return_list)\u001b[0m\n\u001b[0;32m    567\u001b[0m \u001b[39mself\u001b[39m\u001b[39m.\u001b[39mread_in_table_file(table_file_path)\n\u001b[0;32m    568\u001b[0m \u001b[39mif\u001b[39;00m \u001b[39mself\u001b[39m\u001b[39m.\u001b[39mdata_frame \u001b[39mis\u001b[39;00m \u001b[39mNone\u001b[39;00m:\n\u001b[1;32m--> 569\u001b[0m     \u001b[39mraise\u001b[39;00m \u001b[39mFileNotFoundError\u001b[39;00m(\u001b[39m\"\u001b[39m\u001b[39mCan not find \u001b[39m\u001b[39m'\u001b[39m\u001b[39m.csv\u001b[39m\u001b[39m'\u001b[39m\u001b[39m table path \u001b[39m\u001b[39m'\u001b[39m\u001b[39m%s\u001b[39;00m\u001b[39m'\u001b[39m\u001b[39m.\u001b[39m\u001b[39m\"\u001b[39m \u001b[39m%\u001b[39m table_file_path)\n\u001b[0;32m    571\u001b[0m \u001b[39mif\u001b[39;00m file_column_name \u001b[39mis\u001b[39;00m \u001b[39mNone\u001b[39;00m:\n\u001b[0;32m    572\u001b[0m     \u001b[39mraise\u001b[39;00m \u001b[39mValueError\u001b[39;00m(\u001b[39m\"\u001b[39m\u001b[39mPlease specify column for \u001b[39m\u001b[39m'\u001b[39m\u001b[39m.csv\u001b[39m\u001b[39m'\u001b[39m\u001b[39m file which contains file names.\u001b[39m\u001b[39m\"\u001b[39m)\n",
      "\u001b[1;31mFileNotFoundError\u001b[0m: Can not find '.csv' table path 'None'."
     ]
    }
   ],
   "source": [
    "dataset = QMDataset(data_directory=\"ExampleQM\", file_name=\"ThiolDisulfidExchange.csv\", dataset_name=\"ThiolDisulfidExchange\")\n",
    "dataset.prepare_data(overwrite=True, make_sdf = True);\n",
    "dataset.read_in_memory(label_column_name=\"energy\");\n",
    "dataset.map_list(method= \"set_range\", max_distance= 10.0, max_neighbours= 10000);\n",
    "dataset.map_list(method=\"set_angle\");\n",
    "dataset.save();"
   ]
  },
  {
   "cell_type": "code",
   "execution_count": 9,
   "metadata": {},
   "outputs": [
    {
     "name": "stderr",
     "output_type": "stream",
     "text": [
      "INFO:kgcnn.data.ThiolDisulfidExchange:Load pickled dataset...\n"
     ]
    },
    {
     "data": {
      "text/plain": [
       "dict_keys(['node_symbol', 'node_number', 'node_coordinates', 'edge_indices', 'edge_number', 'graph_labels', 'range_indices', 'range_attributes', 'angle_indices', 'angle_indices_nodes', 'angle_attributes'])"
      ]
     },
     "execution_count": 9,
     "metadata": {},
     "output_type": "execute_result"
    }
   ],
   "source": [
    "dataset = MemoryGraphDataset(data_directory=\"ExampleQM\", dataset_name=\"ThiolDisulfidExchange\")\n",
    "dataset.load();\n",
    "dataset[0].keys()"
   ]
  },
  {
   "cell_type": "code",
   "execution_count": 4,
   "metadata": {},
   "outputs": [
    {
     "name": "stdout",
     "output_type": "stream",
     "text": [
      "(3, 42, 3)\n"
     ]
    }
   ],
   "source": [
    "elemental_mapping = [1,6,16]\n",
    "\n",
    "# Radial parameters\n",
    "cutoff_rad = 10\n",
    "Rs_array   = [0.0, 1.5, 2.0, 2.5, 3.0, 3.5, 4.0]\n",
    "eta_array  = [0.0, 0.03, 0.08, 0.16, 0.3, 0.5]\n",
    "rad_params = [(eta, Rs, cutoff_rad) for Rs in Rs_array for eta in eta_array]\n",
    "rad_params = np.broadcast_to(rad_params, (len(elemental_mapping),len(rad_params),3))\n",
    "print(rad_params.shape)\n"
   ]
  },
  {
   "cell_type": "code",
   "execution_count": 11,
   "metadata": {},
   "outputs": [
    {
     "data": {
      "text/plain": [
       "(3,\n",
       " TensorShape([100, None]),\n",
       " TensorShape([100, None, 3]),\n",
       " TensorShape([100, None, 2]))"
      ]
     },
     "execution_count": 11,
     "metadata": {},
     "output_type": "execute_result"
    }
   ],
   "source": [
    "inputs = dataset.tensor([\n",
    "    {\"shape\": (None,), \"name\": \"node_number\", \"dtype\": \"int64\", \"ragged\": True},\n",
    "    {\"shape\": (None, 3), \"name\": \"node_coordinates\", \"dtype\": \"float32\", \"ragged\": True},\n",
    "    {\"shape\": (None, 2), \"name\": \"range_indices\", \"dtype\": \"int64\", \"ragged\": True}\n",
    "    ])\n",
    "inputs = [x[:100] for x in inputs]\n",
    "len(inputs), inputs[0].shape, inputs[1].shape, inputs[2].shape"
   ]
  },
  {
   "cell_type": "code",
   "execution_count": 12,
   "metadata": {},
   "outputs": [],
   "source": [
    "rad_symm_layer = ACSFG2(rad_params,elemental_mapping)\n",
    "rad_symms = rad_symm_layer(inputs)"
   ]
  },
  {
   "cell_type": "code",
   "execution_count": 13,
   "metadata": {},
   "outputs": [
    {
     "name": "stdout",
     "output_type": "stream",
     "text": [
      "(100, 15, 126)\n",
      "[[ 0.    0.   10.  ]\n",
      " [ 0.03  0.   10.  ]\n",
      " [ 0.08  0.   10.  ]\n",
      " [ 0.16  0.   10.  ]\n",
      " [ 0.3   0.   10.  ]\n",
      " [ 0.5   0.   10.  ]\n",
      " [ 0.    1.5  10.  ]\n",
      " [ 0.03  1.5  10.  ]\n",
      " [ 0.08  1.5  10.  ]\n",
      " [ 0.16  1.5  10.  ]\n",
      " [ 0.3   1.5  10.  ]\n",
      " [ 0.5   1.5  10.  ]\n",
      " [ 0.    2.   10.  ]\n",
      " [ 0.03  2.   10.  ]\n",
      " [ 0.08  2.   10.  ]\n",
      " [ 0.16  2.   10.  ]\n",
      " [ 0.3   2.   10.  ]\n",
      " [ 0.5   2.   10.  ]\n",
      " [ 0.    2.5  10.  ]\n",
      " [ 0.03  2.5  10.  ]\n",
      " [ 0.08  2.5  10.  ]\n",
      " [ 0.16  2.5  10.  ]\n",
      " [ 0.3   2.5  10.  ]\n",
      " [ 0.5   2.5  10.  ]\n",
      " [ 0.    3.   10.  ]\n",
      " [ 0.03  3.   10.  ]\n",
      " [ 0.08  3.   10.  ]\n",
      " [ 0.16  3.   10.  ]\n",
      " [ 0.3   3.   10.  ]\n",
      " [ 0.5   3.   10.  ]\n",
      " [ 0.    3.5  10.  ]\n",
      " [ 0.03  3.5  10.  ]\n",
      " [ 0.08  3.5  10.  ]\n",
      " [ 0.16  3.5  10.  ]\n",
      " [ 0.3   3.5  10.  ]\n",
      " [ 0.5   3.5  10.  ]\n",
      " [ 0.    4.   10.  ]\n",
      " [ 0.03  4.   10.  ]\n",
      " [ 0.08  4.   10.  ]\n",
      " [ 0.16  4.   10.  ]\n",
      " [ 0.3   4.   10.  ]\n",
      " [ 0.5   4.   10.  ]]\n",
      "[7.01e+00 5.51e+00 4.03e+00 2.92e+00 2.14e+00 1.62e+00 7.01e+00 6.41e+00\n",
      " 5.61e+00 4.72e+00 3.82e+00 3.19e+00 7.01e+00 6.56e+00 5.91e+00 5.07e+00\n",
      " 4.03e+00 3.05e+00 7.01e+00 6.63e+00 6.05e+00 5.26e+00 4.17e+00 3.09e+00\n",
      " 7.01e+00 6.61e+00 6.02e+00 5.25e+00 4.27e+00 3.39e+00 7.01e+00 6.51e+00\n",
      " 5.82e+00 5.04e+00 4.24e+00 3.68e+00 7.01e+00 6.32e+00 5.47e+00 4.64e+00\n",
      " 3.95e+00 3.55e+00 1.47e+00 1.04e+00 5.76e-01 2.25e-01 4.36e-02 4.18e-03\n",
      " 1.47e+00 1.32e+00 1.09e+00 8.13e-01 4.84e-01 2.30e-01 1.47e+00 1.39e+00\n",
      " 1.25e+00 1.06e+00 8.00e-01 5.32e-01 1.47e+00 1.44e+00 1.38e+00 1.28e+00\n",
      " 1.14e+00 9.58e-01 1.47e+00 1.47e+00 1.45e+00 1.43e+00 1.39e+00 1.34e+00\n",
      " 1.47e+00 1.47e+00 1.47e+00 1.47e+00 1.47e+00 1.47e+00 1.47e+00 1.46e+00\n",
      " 1.44e+00 1.40e+00 1.34e+00 1.25e+00 2.58e+00 2.16e+00 1.63e+00 1.05e+00\n",
      " 5.18e-01 2.12e-01 2.58e+00 2.51e+00 2.39e+00 2.22e+00 1.96e+00 1.67e+00\n",
      " 2.58e+00 2.55e+00 2.51e+00 2.45e+00 2.34e+00 2.21e+00 2.58e+00 2.57e+00\n",
      " 2.54e+00 2.51e+00 2.45e+00 2.37e+00 2.58e+00 2.54e+00 2.47e+00 2.38e+00\n",
      " 2.23e+00 2.06e+00 2.58e+00 2.48e+00 2.32e+00 2.09e+00 1.77e+00 1.44e+00\n",
      " 2.58e+00 2.38e+00 2.08e+00 1.70e+00 1.23e+00 8.04e-01]\n"
     ]
    }
   ],
   "source": [
    "np.set_printoptions(precision=2)\n",
    "print(rad_symms.to_tensor().shape)\n",
    "print(rad_params[0])\n",
    "for i in range(1):\n",
    "    print(rad_symms[0,i].numpy())"
   ]
  },
  {
   "cell_type": "code",
   "execution_count": 17,
   "metadata": {},
   "outputs": [],
   "source": [
    "ang_inputs = dataset.tensor([\n",
    "    {\"shape\": (None,), \"name\": \"node_number\", \"dtype\": \"int64\", \"ragged\": True},\n",
    "    {\"shape\": (None, 3), \"name\": \"node_coordinates\", \"dtype\": \"float32\", \"ragged\": True},\n",
    "    {\"shape\": (None, 3), \"name\": \"angle_indices_nodes\", \"dtype\": \"int64\", \"ragged\": True}\n",
    "    ])\n",
    "ang_inputs = [x[:100] for x in ang_inputs]"
   ]
  },
  {
   "cell_type": "code",
   "execution_count": 18,
   "metadata": {},
   "outputs": [
    {
     "name": "stdout",
     "output_type": "stream",
     "text": [
      "(6, 60, 4)\n"
     ]
    }
   ],
   "source": [
    "# Angular parameters\n",
    "cutoff_ang    = 6\n",
    "lambd_array   = [-1, 1]\n",
    "zeta_array    = [1, 2, 4, 8, 16]\n",
    "eta_ang_array = eta_array\n",
    "ang_params    = [[eta, zeta, lambd, cutoff_ang] for eta in eta_ang_array for zeta in zeta_array for lambd in lambd_array]\n",
    "ang_params = np.broadcast_to(ang_params, (int(len(elemental_mapping)*(len(elemental_mapping)+1)/2),len(ang_params),4))\n",
    "\n",
    "print(ang_params.shape)"
   ]
  },
  {
   "cell_type": "code",
   "execution_count": 19,
   "metadata": {},
   "outputs": [],
   "source": [
    "ang_symm_layer = ACSFG4(\n",
    "    eta_zeta_lambda_rc=ang_params,\n",
    "    element_mapping=elemental_mapping,\n",
    "    element_pair_mapping=None,  # Automatic\n",
    "    keep_pair_order=False,\n",
    "    multiplicity=2.0\n",
    ")\n",
    "ang_symms = ang_symm_layer(ang_inputs)"
   ]
  },
  {
   "cell_type": "code",
   "execution_count": 20,
   "metadata": {},
   "outputs": [
    {
     "name": "stdout",
     "output_type": "stream",
     "text": [
      "(100, 15, 360)\n",
      "[[ 0.    1.   -1.    6.  ]\n",
      " [ 0.    1.    1.    6.  ]\n",
      " [ 0.    2.   -1.    6.  ]\n",
      " [ 0.    2.    1.    6.  ]\n",
      " [ 0.    4.   -1.    6.  ]\n",
      " [ 0.    4.    1.    6.  ]\n",
      " [ 0.    8.   -1.    6.  ]\n",
      " [ 0.    8.    1.    6.  ]\n",
      " [ 0.   16.   -1.    6.  ]\n",
      " [ 0.   16.    1.    6.  ]\n",
      " [ 0.03  1.   -1.    6.  ]\n",
      " [ 0.03  1.    1.    6.  ]\n",
      " [ 0.03  2.   -1.    6.  ]\n",
      " [ 0.03  2.    1.    6.  ]\n",
      " [ 0.03  4.   -1.    6.  ]\n",
      " [ 0.03  4.    1.    6.  ]\n",
      " [ 0.03  8.   -1.    6.  ]\n",
      " [ 0.03  8.    1.    6.  ]\n",
      " [ 0.03 16.   -1.    6.  ]\n",
      " [ 0.03 16.    1.    6.  ]\n",
      " [ 0.08  1.   -1.    6.  ]\n",
      " [ 0.08  1.    1.    6.  ]\n",
      " [ 0.08  2.   -1.    6.  ]\n",
      " [ 0.08  2.    1.    6.  ]\n",
      " [ 0.08  4.   -1.    6.  ]\n",
      " [ 0.08  4.    1.    6.  ]\n",
      " [ 0.08  8.   -1.    6.  ]\n",
      " [ 0.08  8.    1.    6.  ]\n",
      " [ 0.08 16.   -1.    6.  ]\n",
      " [ 0.08 16.    1.    6.  ]\n",
      " [ 0.16  1.   -1.    6.  ]\n",
      " [ 0.16  1.    1.    6.  ]\n",
      " [ 0.16  2.   -1.    6.  ]\n",
      " [ 0.16  2.    1.    6.  ]\n",
      " [ 0.16  4.   -1.    6.  ]\n",
      " [ 0.16  4.    1.    6.  ]\n",
      " [ 0.16  8.   -1.    6.  ]\n",
      " [ 0.16  8.    1.    6.  ]\n",
      " [ 0.16 16.   -1.    6.  ]\n",
      " [ 0.16 16.    1.    6.  ]\n",
      " [ 0.3   1.   -1.    6.  ]\n",
      " [ 0.3   1.    1.    6.  ]\n",
      " [ 0.3   2.   -1.    6.  ]\n",
      " [ 0.3   2.    1.    6.  ]\n",
      " [ 0.3   4.   -1.    6.  ]\n",
      " [ 0.3   4.    1.    6.  ]\n",
      " [ 0.3   8.   -1.    6.  ]\n",
      " [ 0.3   8.    1.    6.  ]\n",
      " [ 0.3  16.   -1.    6.  ]\n",
      " [ 0.3  16.    1.    6.  ]\n",
      " [ 0.5   1.   -1.    6.  ]\n",
      " [ 0.5   1.    1.    6.  ]\n",
      " [ 0.5   2.   -1.    6.  ]\n",
      " [ 0.5   2.    1.    6.  ]\n",
      " [ 0.5   4.   -1.    6.  ]\n",
      " [ 0.5   4.    1.    6.  ]\n",
      " [ 0.5   8.   -1.    6.  ]\n",
      " [ 0.5   8.    1.    6.  ]\n",
      " [ 0.5  16.   -1.    6.  ]\n",
      " [ 0.5  16.    1.    6.  ]]\n",
      "[4.09e+00 3.85e+00 2.65e+00 2.40e+00 1.30e+00 1.45e+00 4.54e-01 9.10e-01\n",
      " 1.98e-01 5.19e-01 2.92e+00 2.33e+00 1.90e+00 1.31e+00 8.94e-01 7.08e-01\n",
      " 2.57e-01 4.21e-01 8.21e-02 2.27e-01 1.92e+00 1.25e+00 1.26e+00 5.89e-01\n",
      " 5.75e-01 2.46e-01 1.33e-01 1.31e-01 2.15e-02 6.39e-02 1.15e+00 6.28e-01\n",
      " 7.64e-01 2.44e-01 3.43e-01 6.37e-02 7.10e-02 2.60e-02 4.44e-03 1.11e-02\n",
      " 5.17e-01 2.60e-01 3.46e-01 8.89e-02 1.55e-01 1.29e-02 3.14e-02 2.34e-03\n",
      " 1.31e-03 8.90e-04 1.70e-01 8.40e-02 1.14e-01 2.79e-02 5.12e-02 3.16e-03\n",
      " 1.03e-02 1.22e-04 4.24e-04 3.43e-05 6.84e-01 2.00e+00 4.06e-01 1.73e+00\n",
      " 2.34e-01 1.45e+00 1.35e-01 1.19e+00 7.35e-02 9.72e-01 3.01e-01 9.46e-01\n",
      " 1.70e-01 8.15e-01 9.28e-02 6.77e-01 5.17e-02 5.51e-01 2.75e-02 4.42e-01\n",
      " 7.95e-02 2.77e-01 4.07e-02 2.39e-01 2.01e-02 1.96e-01 1.05e-02 1.56e-01\n",
      " 5.35e-03 1.23e-01 1.02e-02 4.10e-02 4.45e-03 3.53e-02 1.82e-03 2.85e-02\n",
      " 8.31e-04 2.21e-02 3.94e-04 1.68e-02 3.38e-04 1.61e-03 1.14e-04 1.39e-03\n",
      " 3.08e-05 1.10e-03 1.05e-05 8.17e-04 4.21e-06 5.96e-04 3.45e-06 1.80e-05\n",
      " 9.09e-07 1.55e-05 1.28e-07 1.21e-05 2.37e-08 8.58e-06 6.88e-09 5.99e-06\n",
      " 4.23e+00 4.58e+00 2.55e+00 2.89e+00 1.22e+00 1.56e+00 4.49e-01 6.96e-01\n",
      " 1.60e-01 2.27e-01 2.62e+00 2.54e+00 1.60e+00 1.52e+00 7.53e-01 7.59e-01\n",
      " 2.57e-01 3.17e-01 8.42e-02 9.66e-02 1.27e+00 1.06e+00 7.91e-01 5.77e-01\n",
      " 3.61e-01 2.50e-01 1.07e-01 9.10e-02 2.92e-02 2.41e-02 4.53e-01 3.20e-01\n",
      " 2.86e-01 1.53e-01 1.26e-01 5.23e-02 3.10e-02 1.47e-02 5.61e-03 2.92e-03\n",
      " 8.97e-02 5.42e-02 5.77e-02 2.23e-02 2.50e-02 5.43e-03 5.15e-03 1.02e-03\n",
      " 4.09e-04 1.15e-04 1.03e-02 5.65e-03 6.75e-03 2.09e-03 2.94e-03 3.65e-04\n",
      " 5.72e-04 4.35e-05 2.46e-05 3.22e-06 1.71e-03 8.07e-04 1.16e-03 2.59e-04\n",
      " 5.36e-04 2.66e-05 1.14e-04 2.81e-07 5.18e-06 3.15e-11 3.24e-04 1.53e-04\n",
      " 2.20e-04 4.90e-05 1.02e-04 5.04e-06 2.16e-05 5.33e-08 9.81e-07 5.96e-12\n",
      " 2.03e-05 9.56e-06 1.38e-05 3.07e-06 6.35e-06 3.15e-07 1.35e-06 3.33e-09\n",
      " 6.13e-08 3.73e-13 2.40e-07 1.13e-07 1.63e-07 3.63e-08 7.53e-08 3.74e-09\n",
      " 1.60e-08 3.95e-11 7.27e-10 4.42e-15 1.02e-10 4.83e-11 6.94e-11 1.55e-11\n",
      " 3.20e-11 1.59e-12 6.83e-12 1.68e-14 3.10e-13 1.88e-18 1.56e-15 7.38e-16\n",
      " 1.06e-15 2.37e-16 4.90e-16 2.43e-17 1.04e-16 2.57e-19 4.73e-18 2.88e-23\n",
      " 2.71e-01 1.24e+00 7.35e-02 1.04e+00 1.18e-02 7.73e-01 7.64e-04 4.70e-01\n",
      " 4.18e-06 2.13e-01 1.23e-01 6.15e-01 2.96e-02 5.23e-01 3.97e-03 3.91e-01\n",
      " 2.39e-04 2.39e-01 1.30e-06 1.08e-01 3.50e-02 1.94e-01 7.33e-03 1.66e-01\n",
      " 6.99e-04 1.26e-01 3.45e-05 7.75e-02 1.87e-07 3.53e-02 5.24e-03 3.13e-02\n",
      " 9.71e-04 2.70e-02 5.83e-05 2.06e-02 1.60e-06 1.28e-02 8.33e-09 5.87e-03\n",
      " 2.08e-04 1.31e-03 3.62e-05 1.14e-03 1.59e-06 8.73e-04 9.97e-09 5.49e-04\n",
      " 3.61e-11 2.55e-04 2.16e-06 1.42e-05 3.63e-07 1.24e-05 1.50e-08 9.66e-06\n",
      " 3.69e-11 6.18e-06 1.54e-14 2.92e-06 3.01e-01 1.30e+00 7.77e-02 1.08e+00\n",
      " 1.25e-02 7.64e-01 7.06e-04 4.03e-01 2.51e-06 1.16e-01 1.73e-01 8.23e-01\n",
      " 3.94e-02 6.89e-01 5.36e-03 4.94e-01 2.96e-04 2.62e-01 1.05e-06 7.54e-02\n",
      " 7.42e-02 3.92e-01 1.41e-02 3.32e-01 1.36e-03 2.40e-01 6.94e-05 1.28e-01\n",
      " 2.46e-07 3.69e-02 2.15e-02 1.23e-01 3.44e-03 1.05e-01 1.76e-04 7.63e-02\n",
      " 6.83e-06 4.08e-02 2.42e-08 1.17e-02 2.80e-03 1.65e-02 4.11e-04 1.41e-02\n",
      " 1.04e-05 1.03e-02 1.21e-07 5.52e-03 4.16e-10 1.58e-03 1.60e-04 9.44e-04\n",
      " 2.32e-05 8.08e-04 4.93e-07 5.91e-04 5.71e-10 3.16e-04 1.26e-12 9.07e-05]\n"
     ]
    }
   ],
   "source": [
    "print(ang_symms.to_tensor().shape)\n",
    "print(ang_params[0])\n",
    "for i in range(1):\n",
    "    print(ang_symms[0,i].numpy())"
   ]
  }
 ],
 "metadata": {
  "kernelspec": {
   "display_name": "kgcnn",
   "language": "python",
   "name": "python3"
  },
  "language_info": {
   "codemirror_mode": {
    "name": "ipython",
    "version": 3
   },
   "file_extension": ".py",
   "mimetype": "text/x-python",
   "name": "python",
   "nbconvert_exporter": "python",
   "pygments_lexer": "ipython3",
   "version": "3.10.9"
  },
  "orig_nbformat": 4,
  "vscode": {
   "interpreter": {
    "hash": "9a82a49effad3129cfec988656f266bd169d0f41f50b5b4d94b9ce4573ecf5bf"
   }
  }
 },
 "nbformat": 4,
 "nbformat_minor": 2
}
